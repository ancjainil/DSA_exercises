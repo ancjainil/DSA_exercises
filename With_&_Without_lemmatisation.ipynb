{
 "cells": [
  {
   "cell_type": "code",
   "execution_count": null,
   "metadata": {},
   "outputs": [],
   "source": [
    "  classifiers = {\n",
    "        'Naive Bayes': MultinomialNB(),\n",
    "        'Logistic Regression': LogisticRegression(max_iter=1000),\n",
    "        'Support Vector Machine': SVC(probability=True),\n",
    "        'Decision Tree': DecisionTreeClassifier(),\n",
    "        'Random Forest': RandomForestClassifier(),\n",
    "        'Gradient Boosting': GradientBoostingClassifier()\n",
    "    }\n",
    "\n",
    "    metrics_without_lemmatization = {metric: [] for metric in ['Accuracy', 'Precision', 'Recall', 'F1-score', 'ROC-AUC']}\n",
    "    metrics_with_lemmatization = {metric: [] for metric in ['Accuracy', 'Precision', 'Recall', 'F1-score', 'ROC-AUC']}\n",
    "\n",
    "    for name, classifier in classifiers.items():\n",
    "        print(f\"Evaluating {name} without lemmatization...\")\n",
    "        vectorizer = TfidfVectorizer(max_features=1000)\n",
    "        trained_classifier, _, authors = train_model(classifier, vectorizer)\n",
    "        evaluation_results = evaluate_model(trained_classifier, vectorizer, authors)\n",
    "        for metric, value in evaluation_results.items():\n",
    "            metrics_without_lemmatization[metric].append(value)\n",
    "\n",
    "        print(f\"Evaluating {name} with lemmatization...\")\n",
    "        vectorizer = TfidfVectorizer(max_features=1000)\n",
    "        trained_classifier, _, authors = train_model(classifier, vectorizer)\n",
    "        evaluation_results = evaluate_model(trained_classifier, vectorizer, authors)\n",
    "        for metric, value in evaluation_results.items():\n",
    "            metrics_with_lemmatization[metric].append(value)\n",
    "\n",
    "    # Plotting\n",
    "    plt.figure(figsize=(10, 6))\n",
    "    for metric in metrics_without_lemmatization.keys():\n",
    "        plt.plot(classifiers.keys(), metrics_without_lemmatization[metric], marker='o', label=f'{metric} without Lemmatization')\n",
    "        plt.plot(classifiers.keys(), metrics_with_lemmatization[metric], marker='o', label=f'{metric} with Lemmatization')\n",
    "    plt.title('Performance Comparison with and without Lemmatization')\n",
    "    plt.xlabel('Classifier')\n",
    "    plt.ylabel('Score')\n",
    "    plt.xticks(rotation=45)\n",
    "    plt.legend()\n",
    "    plt.grid(True)\n",
    "    plt.tight_layout()\n",
    "    plt.show()"
   ]
  }
 ],
 "metadata": {
  "language_info": {
   "name": "python"
  },
  "orig_nbformat": 4
 },
 "nbformat": 4,
 "nbformat_minor": 2
}
