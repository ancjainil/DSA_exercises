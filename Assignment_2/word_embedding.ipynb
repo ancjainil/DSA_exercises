{
 "cells": [
  {
   "cell_type": "code",
   "execution_count": 33,
   "metadata": {},
   "outputs": [],
   "source": [
    "import pandas as pd\n",
    "from sklearn.feature_extraction.text import CountVectorizer, TfidfVectorizer\n",
    "from sklearn.decomposition import LatentDirichletAllocation\n",
    "from gensim.models.doc2vec import Doc2Vec, TaggedDocument\n",
    "from nltk.tokenize import word_tokenize\n",
    "from gensim.corpora import Dictionary\n",
    "from gensim.models import LdaModel\n",
    "import matplotlib.pyplot as plt\n",
    "import gensim\n",
    "import pickle"
   ]
  },
  {
   "cell_type": "code",
   "execution_count": 34,
   "metadata": {},
   "outputs": [],
   "source": [
    "# Load the processed data\n",
    "data_frame = pd.read_csv('encoded_books_data.csv')\n",
    "\n",
    "# Bag of Words (BoW) - CountVectorizer\n",
    "BOW = CountVectorizer()\n",
    "BOW_transformation = BOW.fit_transform(data_frame['Sample'])\n",
    "\n",
    "# TF-IDF\n",
    "def tfidf_ngram(n_gram,X_train=data_frame['Sample']):\n",
    "    vectorizer = TfidfVectorizer(ngram_range=(n_gram,n_gram))\n",
    "    x_train_vec = vectorizer.fit_transform(X_train)\n",
    "    return x_train_vec\n",
    "\n",
    "# Applying tfidf with 1-gram, and 2-gram\n",
    "tfidf_1g_transformation= tfidf_ngram(1,X_train=data_frame['Sample'])\n",
    "tfidf_2g_transformation= tfidf_ngram(2,X_train=data_frame['Sample'])\n"
   ]
  },
  {
   "cell_type": "code",
   "execution_count": 35,
   "metadata": {},
   "outputs": [
    {
     "data": {
      "text/plain": [
       "1254"
      ]
     },
     "execution_count": 35,
     "metadata": {},
     "output_type": "execute_result"
    }
   ],
   "source": [
    "# Doc2Vec\n",
    "# Tokenization of each document\n",
    "tokenized_doc = []\n",
    "for d in data_frame['Sample']:\n",
    "    tokenized_doc.append(word_tokenize(d.lower()))\n",
    "\n",
    "# Convert tokenized document into gensim formated tagged data\n",
    "tagged_data = [TaggedDocument(d, [i]) for i, d in enumerate(tokenized_doc)]\n",
    "tagged_data[0]\n",
    "# Train doc2vec model\n",
    "model = Doc2Vec(tagged_data, vector_size=50, window=2, min_count=1, workers=4, epochs = 100)\n",
    "def get_doc2vec_vector(df):\n",
    "    doc2vec_vectors=[]\n",
    "    for sentence in data_frame['Sample']:\n",
    "        doc2vec_vectors.append(model.infer_vector(word_tokenize(sentence.lower())))\n",
    "    return doc2vec_vectors\n",
    "doc2vec_vectors=get_doc2vec_vector(data_frame['Sample'])\n",
    "len(doc2vec_vectors)"
   ]
  },
  {
   "cell_type": "code",
   "execution_count": 36,
   "metadata": {},
   "outputs": [
    {
     "name": "stdout",
     "output_type": "stream",
     "text": [
      "1254\n",
      "82\n",
      "Number of unique tokens: 1526\n",
      "Number of documents: 1254\n",
      "Average topic coherence: -1.8985.\n",
      "-1.8985174768006672\n"
     ]
    }
   ],
   "source": [
    "#LDA\n",
    "paragraphs = data_frame[\"Sample\"].to_list()\n",
    "docs = []\n",
    "\n",
    "for sen in paragraphs:\n",
    "    docs.append(list(sen.split()))\n",
    "print(len(docs))\n",
    "\n",
    "# Create a dictionary representation of the documents.\n",
    "dictionary = Dictionary(docs)\n",
    "\n",
    "# Filter out words that occur less than 20 documents, or more than 50% of the documents.\n",
    "dictionary.filter_extremes(no_below=20, no_above=0.8)\n",
    "\n",
    "# Bag-of-words representation of the documents.\n",
    "corpus = [dictionary.doc2bow(doc) for doc in docs]\n",
    "print(len(corpus[2]))\n",
    "print('Number of unique tokens: %d' % len(dictionary))\n",
    "print('Number of documents: %d' % len(corpus))\n",
    "\n",
    "# Set training parameters.\n",
    "num_topics = 7\n",
    "chunksize = 2000\n",
    "passes = 20\n",
    "iterations = 400\n",
    "eval_every = None  # Don't evaluate model perplexity, takes too much time.\n",
    "\n",
    "# Make a index to word dictionary.\n",
    "temp = dictionary[0]  # This is only to \"load\" the dictionary.\n",
    "id2word = dictionary.id2token\n",
    "#print(len(dictionary))\n",
    "model = LdaModel(\n",
    "    corpus=corpus,\n",
    "    id2word=id2word,\n",
    "    chunksize=chunksize,\n",
    "    alpha='auto',\n",
    "    eta='auto',\n",
    "    iterations=iterations,\n",
    "    num_topics=num_topics,\n",
    "    passes=passes,\n",
    "    eval_every=eval_every\n",
    ")\n",
    "\n",
    "top_topics = model.top_topics(corpus) #, num_words=20)\n",
    "\n",
    "# Average topic coherence is the sum of topic coherences of all topics, divided by the number of topics.\n",
    "avg_topic_coherence = sum([t[1] for t in top_topics]) / num_topics\n",
    "print('Average topic coherence: %.4f.' % avg_topic_coherence)\n",
    "\n",
    "all_topics = model.get_document_topics(corpus)\n",
    "num_docs = len(all_topics)\n",
    "\n",
    "all_topics_csr = gensim.matutils.corpus2csc(all_topics)\n",
    "lda_to_cluster = all_topics_csr.T.toarray()\n",
    "lda_to_cluster.shape\n",
    "\n",
    "from gensim.models.coherencemodel import CoherenceModel\n",
    "## Evaluating coherence of gensim LDA model\n",
    "cm = CoherenceModel(model=model, corpus=corpus, coherence='u_mass')\n",
    "coherence_score = cm.get_coherence()\n",
    "print(coherence_score)"
   ]
  },
  {
   "cell_type": "code",
   "execution_count": 37,
   "metadata": {},
   "outputs": [],
   "source": [
    "# Save the results\n",
    "text_embedding={\n",
    "    'BOW':BOW_transformation.toarray(),\n",
    "    'TF_IDF 1_gram':tfidf_1g_transformation.toarray(),\n",
    "    'Doc2vec':np.array(doc2vec_vectors),\n",
    "    'LDA':lda_to_cluster,\n",
    "}"
   ]
  },
  {
   "cell_type": "code",
   "execution_count": 38,
   "metadata": {},
   "outputs": [
    {
     "name": "stdout",
     "output_type": "stream",
     "text": [
      "Saved\n"
     ]
    }
   ],
   "source": [
    "a_file = open(\"EmbeddingText_edited.pkl\", \"wb\")\n",
    "pickle.dump(text_embedding, a_file)\n",
    "a_file.close()\n",
    "print('Saved')"
   ]
  }
 ],
 "metadata": {
  "kernelspec": {
   "display_name": "base",
   "language": "python",
   "name": "python3"
  },
  "language_info": {
   "codemirror_mode": {
    "name": "ipython",
    "version": 3
   },
   "file_extension": ".py",
   "mimetype": "text/x-python",
   "name": "python",
   "nbconvert_exporter": "python",
   "pygments_lexer": "ipython3",
   "version": "3.11.7"
  }
 },
 "nbformat": 4,
 "nbformat_minor": 2
}
